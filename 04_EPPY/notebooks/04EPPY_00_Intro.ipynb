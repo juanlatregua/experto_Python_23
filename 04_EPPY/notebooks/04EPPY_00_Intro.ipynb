{
 "cells": [
  {
   "cell_type": "markdown",
   "id": "d7c88966",
   "metadata": {
    "slideshow": {
     "slide_type": "slide"
    }
   },
   "source": [
    "<img src=\"img/viu_logo.png\" width=\"200\">\n",
    "\n",
    "## 04EPPY - Ciencia de Datos e Inteligencia Artificial\n",
    "### Presentación de la asignatura\n",
    "\n",
    "![logo](img/python_logo.png)\n",
    "\n",
    "*Òscar Garibo*"
   ]
  },
  {
   "cell_type": "markdown",
   "id": "037b65ee",
   "metadata": {},
   "source": [
    "## Presentación\n",
    "\n",
    "Òscar Garibo\n",
    "\n",
    "- Data Science Researcher at VRAIN (Valencian Research Institute for Artificial Intelligence)\n",
    "  - Data scrapping, cleansing, cleaning\n",
    "  - Machine Learning\n",
    "  - Deep Learning\n",
    "  - Python\n",
    "- email - oscar.garibo@campusviu.es\n",
    "- discord - https://discord.gg/bxhrkbXA"
   ]
  },
  {
   "cell_type": "markdown",
   "id": "c35165c5",
   "metadata": {},
   "source": [
    "Career\n",
    "- Machine learning for cybersecurity\n",
    "- User profiling\n",
    "- Anomalous Diffusion Characterization\n",
    "- XPrize Pandemic Response Challenge VALENCIA IA4COVID member\n",
    "- Grupo de Ciencia de Datos del COVID-19 de la Comunitat Valenciana\n",
    "\n",
    "\n",
    "VIU\n",
    "- Ciencia de Datos e Inteligencia Artificial"
   ]
  },
  {
   "cell_type": "markdown",
   "id": "7f682305",
   "metadata": {},
   "source": [
    "## Objetivos\n",
    "- Análisis de Datos\n",
    "- Visualización de Datos\n",
    "- Machine Learning\n",
    "- Deep Learning"
   ]
  },
  {
   "cell_type": "markdown",
   "id": "ff94de8b",
   "metadata": {},
   "source": [
    "## Temario"
   ]
  },
  {
   "cell_type": "markdown",
   "id": "3dfeafcf",
   "metadata": {},
   "source": [
    "- Análisis de Datos, Extracción, Preparación, Exploración y Visualización de Datos, Modelado Predictivo (Clasificación, Regresión, Clustering), Validación del Modelo, Análisis Cuantitativo y Cualitativo\n",
    "- NumPy, NdArray, Operaciones, Funciones Matemáticas, Estadística Descriptiva, Algebra Lineal, Filtros, Agregación, Broadcasting, Vectorización, Números Aleatorios, Ficheros\n",
    "- Pandas, Series, DataFrames, Index, Operaciones, Indexing, Slicing, Búsquedas, Ordenación, Ranking, Mapping, Estadística Descriptiva, Agregación, Pivot, Correlaciones, Covarianzas, Ficheros\n",
    "- Visualización de Datos, Matplotlib, DataFrame Graphics, Seaborn, Relaciones de Variables, Distribuciones, Correlaciones\n",
    "- Ciencia de Datos, Join, Merge, Tratamiento de Strings, Transformación de Datos, Calidad de Datos, Limpieza, Duplicados, Discretización\n",
    "- Machine Learning, Scikit Learn, Aprendizaje Supervisado/No Supervisado, Conjuntos de Entrenamiento/Tests, PCA, Clasificación, K-Nearest, SVM, Regresión Lineal, Modelos Lineales\n",
    "- Deep Learning, Redes Neuronales, Computación Paralela en la GPU, TensorFlow, Capa Simple, Capa Multiple\n",
    "- Reconocimiento, de Escritura OCR, de Texto (NLTK), de Imágenes (OpenCV)"
   ]
  },
  {
   "cell_type": "markdown",
   "id": "3b0454e5",
   "metadata": {},
   "source": [
    "## Organización\n",
    "\n",
    "- Ciencia de Datos\n",
    "  - NumPy\n",
    "  - Pandas\n",
    "  - Visualización\n",
    "  - Tratamiento de Datos\n",
    "- Inteligencia Artificial\n",
    "  - Machine Learning\n",
    "  - Deep Learning\n",
    "  - Reconocimiento"
   ]
  },
  {
   "cell_type": "markdown",
   "id": "0d2b0fe2",
   "metadata": {},
   "source": [
    "## Metodología\n",
    "\n",
    "- 6ECTS = 150h = 30h Clases + 120h Trabajo Autónomo\n",
    "- Calendario 28/02 -> 03/04\n",
    "- Horario Regular 19.00 a 21.00 CEST\n",
    "\n",
    "* Clases Expositivas Online (Grabaciones) = 15 * 2h = 30h\n",
    "* Ejercicios Autoevaluativos\n",
    "* Trabajo Autónomo"
   ]
  },
  {
   "cell_type": "markdown",
   "id": "86a0379b",
   "metadata": {},
   "source": [
    "## Sesiones\n",
    "\n",
    "### Horario 19.00 a 21.00 CEST\n",
    "\n",
    "   VC  | Día\n",
    "-------|:----:\n",
    "TC     |  26.07.2023\n",
    "VC00   |  07.07.2023\n",
    "VC01   |  01.09.2023\n",
    "VC02   |  04.09.2023\n",
    "VC03   |  05.09.2023\n",
    "VC04   |  06.09.2023\n",
    "VC05   |  07.09.2023\n",
    "VC06   |  11.09.2023\n",
    "VC07   |  12.09.2023\n",
    "VC08   |  14.09.2023\n",
    "VC09   |  18.09.2023\n",
    "VC10   |  19.09.2023\n",
    "VC11   |  20.09.2023\n",
    "VC12   |  21.09.2023\n",
    "VC13   |  25.09.2023\n",
    "\n",
    "Si hay algún cambio inesperado, se notificará apropiadamente."
   ]
  },
  {
   "cell_type": "markdown",
   "id": "a05c6237",
   "metadata": {},
   "source": [
    "## Recursos de la asignatura\n",
    "\n",
    "- En el aula virtual\n",
    "- Actividades (Descripción y Entregas)\n",
    "\n",
    "* Materiales de Clase / Apuntes\n",
    "* Jupyter Notebooks / Markdeep"
   ]
  },
  {
   "cell_type": "markdown",
   "id": "f9f772ef",
   "metadata": {},
   "source": [
    "## Actividades y Entregas\n",
    "\n",
    "### Portfolio (Evaluación Continua) - 50%\n",
    "- Actividad 1 - 25%\n",
    "- Actividad 2 - 25%\n",
    "\n",
    "### Actividad Final - 50%\n",
    "\n",
    "### Convocatorias, 1ª = 04/04/23 , 2ª = 21/04/23\n",
    "\n",
    "- Todas las actividades (tanto del portfolio como el ejercicio final) deben estar aprobadas.\n",
    "- Resolver el problema supone aprobar, mejorar nota supone un esfuerzo adicional .\n",
    "| Nota | Evaluación |\n",
    "|:---------|:-----|\n",
    "| x < 5  | Suspendido |\n",
    "| 5 <= x < 7 | Aprobado |\n",
    "| 7 <= x < 9 | Notable |\n",
    "| 9 <= x | Sobresaliente |\n",
    "\n",
    "### Opciones de entrega\n",
    "\n",
    "- Subir ficheros a la plataforma blackboard de la VIU.\n",
    "- Entrega de actividades a través de las actividades del campus virtual"
   ]
  },
  {
   "cell_type": "markdown",
   "id": "43830f4b",
   "metadata": {
    "slideshow": {
     "slide_type": "subslide"
    }
   },
   "source": [
    "## Instalación local\n",
    "- Python > 3.7\n",
    "- Jupyter Notebook / Jupyter Lab\n",
    "- IDE\n",
    "  - Visual Studio Code\n",
    "  - PyCharm\n",
    "  - Sublime, Atom, Visual Studio, Eclipse(PyDev), IDLE, Thonny, Spyder, Vim, Emacs\n",
    "- Entorno Virtual para cada Proyecto"
   ]
  },
  {
   "cell_type": "markdown",
   "id": "e396f119",
   "metadata": {},
   "source": [
    "## Entorno de Desarrollo (IDE)\n",
    "- Recomendación VSCode\n",
    "  - https://code.visualstudio.com/\n",
    "  - https://code.visualstudio.com/docs/python/python-tutorial\n",
    "  - https://code.visualstudio.com/docs/languages/python\n",
    "- Extensiones\n",
    "  - Python\n",
    "  - Jupyter"
   ]
  }
 ],
 "metadata": {
  "kernelspec": {
   "display_name": "Python 3",
   "language": "python",
   "name": "python3"
  },
  "language_info": {
   "codemirror_mode": {
    "name": "ipython",
    "version": 3
   },
   "file_extension": ".py",
   "mimetype": "text/x-python",
   "name": "python",
   "nbconvert_exporter": "python",
   "pygments_lexer": "ipython3",
   "version": "3.8.5"
  }
 },
 "nbformat": 4,
 "nbformat_minor": 5
}
