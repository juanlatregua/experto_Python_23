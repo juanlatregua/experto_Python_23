{
 "cells": [
  {
   "cell_type": "markdown",
   "id": "pacific-sharp",
   "metadata": {},
   "source": [
    "<img src=\"img/viu_logo.png\" width=\"200\"><img src=\"img/python_logo.png\" width=\"250\"> *Mario Cervera*"
   ]
  },
  {
   "cell_type": "markdown",
   "id": "canadian-convenience",
   "metadata": {},
   "source": [
    "# Introducción a la Programación - Actividad Evaluable"
   ]
  },
  {
   "cell_type": "markdown",
   "id": "brave-lodging",
   "metadata": {},
   "source": [
    "**Ejercicio 1.** (1 punto) Sin usar expresiones literales, ni sentencias condicionales, ni bucles: (1) Crear una lista ordenada que contenga los números del 1 al 20 (ambos inclusive). Posteriormente, (2) usando la lista creada en el apartado (1), mostrar por pantalla otra lista que contenga sólo los números múltiplos de 5, es decir: [5, 10, 15, 20]."
   ]
  },
  {
   "cell_type": "markdown",
   "id": "american-school",
   "metadata": {},
   "source": [
    "**Ejercicio 2.** (1 punto) Crear una función que reciba como parámetro una lista con objetos de diferentes tipos. Por simplificar, para este problema se consideran únicamente números *enteros*, números *decimales* y *strings*. La función debe devolver como resultado la suma de los números (enteros y decimales) e ignorar los strings. Ejemplo: el resultado para la lista ['b', 'c', 1, 3.4, 'a', 2] sería 6.4."
   ]
  },
  {
   "cell_type": "markdown",
   "id": "amateur-creation",
   "metadata": {},
   "source": [
    "**Ejercicio 3.** (2 puntos) Escribir un programa (sin funciones) que compare dos diccionarios cualquiera y muestre *True* por pantalla si tienen algún elemento en común y *False* en caso contrario. Tener un elemento en común significa que existe un elemento (clave-valor) que está presente en ambos diccionarios. Por ejemplo, el programa mostrará *True* para los diccionarios a = {'a': 3, 'b': 4} y b = {'c': 1, 'a': 3} dado que ambos incluyen el elemento 'a': 3."
   ]
  },
  {
   "cell_type": "markdown",
   "id": "quality-antenna",
   "metadata": {},
   "source": [
    "**Ejercicio 4.** (2 puntos) Escribe una función que reciba como parámetros dos strings y compruebe si estos strings cumplen las siguientes propiedades: (1) ambos strings tienen los mismos caracteres y, además, (2) estos caracteres aparecen el mismo número de veces en ambos strings (es decir, si el primer string tiene 3 'a', por ejemplo, el segundo string también tendrá 3 'a', aunque éstas pueden aparecer en posiciones diferentes). Para resolver el problema, **no** puedes importar ningún módulo de Python (como, por ejemplo, *collections*) ni usar funciones de ordenación (como *sort*).\n",
    "\n",
    "   * Ejemplos para los que la función devolverá *False*:\n",
    "       * 'hola' y 'adios'.\n",
    "       * 'java' y 'javascript'.\n",
    "       * 'maria' y 'mariam'.\n",
    "       * 'aab' y 'abb'.\n",
    "\n",
    "\n",
    "   * Ejemplos para los que la función devolverá *True*:\n",
    "       * 'python' y 'python'\n",
    "       * 'listen' y 'silent'\n",
    "       * 'aabbcc' y 'abcabc'"
   ]
  },
  {
   "cell_type": "markdown",
   "id": "enhanced-liver",
   "metadata": {},
   "source": [
    "**Ejercicio 5.** (2 puntos) En \"*./actividades/res/ciudades.csv*\" tenéis un fichero CSV con información acerca de un conjunto de ciudades: nombre de la ciudad, país al que pertenece y número de habitantes. Escribir un programa que acceda al fichero y obtenga:\n",
    "\n",
    "* Una *lista* con los nombres de las ciudades españolas que tienen más de 300.000 habitantes.\n",
    "* El *número total* de ciudades francesas.\n",
    "\n",
    "El programa debe mostrar la lista y el número por pantalla."
   ]
  },
  {
   "cell_type": "markdown",
   "id": "entertaining-ideal",
   "metadata": {},
   "source": [
    "**Ejercicio 6.** (2 puntos) Escribe una *list comprehension* que obtenga una lista que contenga todos los números impares del 1 al 30 (ambos inclusive). Aquellos que sean múltiplos de 5, serán marcados con una 'x'. Es decir, el resultado debe ser: [1, 3, '5x', 7, 9, 11, 13, '15x', 17, 19, 21, 23, '25x', 27, 29]"
   ]
  }
 ],
 "metadata": {
  "kernelspec": {
   "display_name": "Python 3 (ipykernel)",
   "language": "python",
   "name": "python3"
  },
  "language_info": {
   "codemirror_mode": {
    "name": "ipython",
    "version": 3
   },
   "file_extension": ".py",
   "mimetype": "text/x-python",
   "name": "python",
   "nbconvert_exporter": "python",
   "pygments_lexer": "ipython3",
   "version": "3.11.2"
  }
 },
 "nbformat": 4,
 "nbformat_minor": 5
}
