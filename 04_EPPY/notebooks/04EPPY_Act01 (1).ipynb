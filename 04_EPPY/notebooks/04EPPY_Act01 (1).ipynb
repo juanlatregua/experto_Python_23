{
 "cells": [
  {
   "cell_type": "markdown",
   "id": "intellectual-humor",
   "metadata": {},
   "source": [
    "<img src=\"../img/viu_logo.png\" width=\"200\">\n",
    "\n",
    "## 04EPPY - Actividad 1\n",
    "\n",
    "25% de la Nota Final\n",
    "\n",
    "### Fecha Entrega\n",
    "- Convocatoria 1 - 10/03/2022\n",
    "- Convocatoria 2 - 17/03/2022\n",
    "\n",
    "### Instrucciones:\n",
    "- Crear un notebook de Python3 que servirá como entrega de la actividad.\n",
    "- Separar bien los apartados propuestos con celdas Markdown.\n",
    "- Mantener una estructura limpia, comentando código y secuenciando los apartados con el código correspondiente que resuelva la actividad.\n",
    "- Como criterio de evaluación se tendrá en cuenta el resultado, la consecución del mismo, estilo, comentarios y adecuación.\n",
    "- No está permitido compartir los resultados ni el código en ninguno de los foros. \n",
    "\n",
    "### Entrega:\n",
    "- Un solo documento en formato notebook: .ipynb\n",
    "- Para hacer la entrega hay que hacer un tag al repositorio en una fecha anterior a la fecha de entrega de la actividad, y pegar el enlace al tag del repositorio en la actividad de blackboard."
   ]
  },
  {
   "cell_type": "markdown",
   "id": "southwest-learning",
   "metadata": {},
   "source": [
    "### A1 - Ficheros - 15%\n",
    "- Descarga datos mediante la siguiente url https://raw.githubusercontent.com/grammakov/USA-cities-and-states/master/us_cities_states_counties.csv\n",
    "- Imprimir el número de ciudades que tiene el estado de Florida\n",
    "- Resolver el problema de dos maneras distintas, una usando pandas y otra sin usar ninguna librería (solo Python standard)"
   ]
  },
  {
   "cell_type": "code",
   "execution_count": 16,
   "id": "d11ca556",
   "metadata": {},
   "outputs": [
    {
     "ename": "TypeError",
     "evalue": "read_csv() got an unexpected keyword argument 'error_bad_lines'",
     "output_type": "error",
     "traceback": [
      "\u001b[0;31m---------------------------------------------------------------------------\u001b[0m",
      "\u001b[0;31mTypeError\u001b[0m                                 Traceback (most recent call last)",
      "\u001b[1;32m/Users/programer/Desktop/04_EPPY/notebooks/04EPPY_Act01 (1).ipynb Celda 3\u001b[0m line \u001b[0;36m1\n\u001b[1;32m      <a href='vscode-notebook-cell:/Users/programer/Desktop/04_EPPY/notebooks/04EPPY_Act01%20%281%29.ipynb#X21sZmlsZQ%3D%3D?line=8'>9</a>\u001b[0m \u001b[39m# Cargar el archivo CSV de atletas y resultados de medallas en DataFrames de Pandas\u001b[39;00m\n\u001b[1;32m     <a href='vscode-notebook-cell:/Users/programer/Desktop/04_EPPY/notebooks/04EPPY_Act01%20%281%29.ipynb#X21sZmlsZQ%3D%3D?line=9'>10</a>\u001b[0m \u001b[39mtry\u001b[39;00m:\n\u001b[0;32m---> <a href='vscode-notebook-cell:/Users/programer/Desktop/04_EPPY/notebooks/04EPPY_Act01%20%281%29.ipynb#X21sZmlsZQ%3D%3D?line=10'>11</a>\u001b[0m     df_atletas_medallas \u001b[39m=\u001b[39m pd\u001b[39m.\u001b[39;49mread_csv(ruta_atletas_medallas, error_bad_lines\u001b[39m=\u001b[39;49m\u001b[39mFalse\u001b[39;49;00m)\n\u001b[1;32m     <a href='vscode-notebook-cell:/Users/programer/Desktop/04_EPPY/notebooks/04EPPY_Act01%20%281%29.ipynb#X21sZmlsZQ%3D%3D?line=11'>12</a>\u001b[0m \u001b[39mexcept\u001b[39;00m pd\u001b[39m.\u001b[39merrors\u001b[39m.\u001b[39mParserError:\n\u001b[1;32m     <a href='vscode-notebook-cell:/Users/programer/Desktop/04_EPPY/notebooks/04EPPY_Act01%20%281%29.ipynb#X21sZmlsZQ%3D%3D?line=12'>13</a>\u001b[0m     \u001b[39mwith\u001b[39;00m \u001b[39mopen\u001b[39m(ruta_atletas_medallas, \u001b[39m'\u001b[39m\u001b[39mr\u001b[39m\u001b[39m'\u001b[39m, errors\u001b[39m=\u001b[39m\u001b[39m'\u001b[39m\u001b[39mignore\u001b[39m\u001b[39m'\u001b[39m) \u001b[39mas\u001b[39;00m f:\n",
      "\u001b[0;31mTypeError\u001b[0m: read_csv() got an unexpected keyword argument 'error_bad_lines'"
     ]
    }
   ],
   "source": [
    "import pandas as pd\n",
    "from pandas import Series, DataFrame\n",
    "import csv\n",
    "\n",
    "# Rutas locales de los archivos CSV\n",
    "ruta_atletas_medallas = \"/Users/programer/Desktop/ACTIVDAD2EPPY04/athlete_events.csv\"\n",
    "ruta_resultados_atletismo = \"/Users/programer/Desktop/ACTIVDAD2EPPY04/results.csv\"\n",
    "\n",
    "# Cargar el archivo CSV de atletas y resultados de medallas en DataFrames de Pandas\n",
    "try:\n",
    "    df_atletas_medallas = pd.read_csv(ruta_atletas_medallas, error_bad_lines=False)\n",
    "except pd.errors.ParserError:\n",
    "    with open(ruta_atletas_medallas, 'r', errors='ignore') as f:\n",
    "        reader = csv.reader(f)\n",
    "        df_atletas_medallas = pd.DataFrame(reader)\n",
    "\n",
    "# Eliminar las comillas de las columnas en el DataFrame de atletas\n",
    "df_atletas_medallas = df_atletas_medallas.apply(lambda x: x.astype(str).str.replace('\"', ''))\n",
    "\n",
    "# Convertir las columnas 'Age', 'Height' y 'Weight' a tipo float\n",
    "df_atletas_medallas['Age'] = pd.to_numeric(df_atletas_medallas['Age'], errors='coerce')\n",
    "df_atletas_medallas['Height'] = pd.to_numeric(df_atletas_medallas['Height'], errors='coerce')\n",
    "df_atletas_medallas['Weight'] = pd.to_numeric(df_atletas_medallas['Weight'], errors='coerce')\n",
    "\n",
    "# Filtrar atletas y resultados de medallas desde 1896 a 2016 en el DataFrame de atletas\n",
    "df_atletas_medallas_filtered = df_atletas_medallas[(pd.to_numeric(df_atletas_medallas['Year'], errors='coerce') >= 1896) & (pd.to_numeric(df_atletas_medallas['Year'], errors='coerce') <= 2016)]\n",
    "\n",
    "# Leer el archivo CSV de resultados de atletismo en un DataFrame de Pandas\n",
    "try:\n",
    "    df_resultados_atletismo = pd.read_csv(ruta_resultados_atletismo, delimiter=',', quotechar='\"', error_bad_lines=False)\n",
    "except pd.errors.ParserError:\n",
    "    with open(ruta_resultados_atletismo, 'r', errors='ignore') as f:\n",
    "        reader = csv.reader(f)\n",
    "        df_resultados_atletismo = pd.DataFrame(reader)\n",
    "\n",
    "# Añadir una columna ficticia 'Correction' con valor 0.0\n",
    "df_resultados_atletismo['Correction'] = 0.0\n",
    "\n",
    "# Filtrar resultados de atletismo desde 1896 a 2016 en el DataFrame de resultados de atletismo\n",
    "df_resultados_atletismo_filtered = df_resultados_atletismo[(pd.to_numeric(df_resultados_atletismo['Year'], errors='coerce') >= 1896) & (pd.to_numeric(df_resultados_atletismo['Year'], errors='coerce') <= 2016)]\n"
   ]
  },
  {
   "cell_type": "markdown",
   "id": "controlling-referral",
   "metadata": {},
   "source": [
    "### A2 - 15%\n",
    "- Genera una matriz con valores aleatorios de 0 a 100 de dimensiones 16x16\n",
    "- Calcula los siguentes estadísticos en la matriz anterior, por fila (el resultado de cada uno debe ser un array de dimensiones 16x1)\n",
    "  - Suma de los elementos de cada fila\n",
    "  - Media de los elementos de cada fila\n",
    "  - Valores mínimos de cada fila\n",
    "  - Valores máximos de cada fila"
   ]
  },
  {
   "cell_type": "markdown",
   "id": "improving-championship",
   "metadata": {},
   "source": [
    "### A3 - 10%\n",
    "- Explica y expón, con un ejemplo propio, el broadcasting de NumPy"
   ]
  },
  {
   "cell_type": "markdown",
   "id": "announced-mortality",
   "metadata": {},
   "source": [
    "### A4 - 10%\n",
    "- Resolución de dos sistemas de ecuaciones\n",
    "    - $ A : \\begin{cases} -9y +  4x = 20 \\\\ -7y + 16x = 80                         \\end{cases}$\n",
    "    \n",
    "    - $ B : \\begin{cases} x - 2y + 3z = 7 \\\\ 2x + y + z = 4 \\\\ -3x + 2y -2z = -10 \\end{cases}$"
   ]
  },
  {
   "cell_type": "markdown",
   "id": "grave-summer",
   "metadata": {},
   "source": [
    "### A5 - 15%\n",
    "- Crear un DataFrame de dimensiones 10x10, con números aleatorios en el rango `[0,20]`\n",
    "- Reemplazar todos aquellos elementos menores de 5 por NaN\n",
    "- Averiguar cuantos elementos tienen Nan por fila"
   ]
  },
  {
   "cell_type": "markdown",
   "id": "acceptable-manner",
   "metadata": {},
   "source": [
    "### A6 - 20%\n",
    "- Se tienen tres datasets, se adjuntan sus datos como diccionarios\n",
    "  - Students, representa un conjunto de alumnos, con sus nombres, edad y sexo\n",
    "  - Subjects, un conjunto de asignaturas, con su nombre y el semestre en que se imparten\n",
    "  - Marks, un conjunto de notas que han obtenido los alumnos en las asignaturas\n",
    "- Obtener la siguiente información usando Pandas\n",
    "  - El nombre del alumno con la mejor nota, y en que asignatura ha sido\n",
    "  - Cuantos alumnos tienen asignaturas suspendidas en el primer semestre\n",
    "  - La media de edad de los asistentes a la asignatura de Python\n",
    "  - Formar una palabra con las iniciales de los nombres de los estudiantes ordenados por edad\n",
    "- Representar graficamente\n",
    "  - Las notas medias de todos los estudiantes por asignatura, agrupando por sexo\n",
    "  - La densidad bivariable de la edad de los estudiantes frente a sus notas, agrupando por sexo (mostrando los datos de dispersion en la zona central, las curvas de densidad en los ejes)"
   ]
  },
  {
   "cell_type": "code",
   "execution_count": null,
   "id": "radio-theory",
   "metadata": {},
   "outputs": [],
   "source": [
    "students = {'StudentId': [1,2,3,4,5,6], 'Name' : ['Yael','Thomas','Paula','Orlando','Hannah','Nicole'], 'Age' : [22,31,19,44,39,51], 'Sex' : ['M', 'M', 'F', 'M', 'F', 'F']}\n",
    "subjects = {'SubjectId': [1,2,3], 'Name': ['Python', 'Math', 'DeepLearning'], 'Semester': [1, 1, 2]}\n",
    "marks = {'StudentId' : [2,2,1,3,6,4,4,3,2,5], 'SubjectId' : [1,3,1,2,1,2,3,1,2,1], 'Mark': [6,5,8,3,5,2,7,2,4,6]}"
   ]
  },
  {
   "cell_type": "markdown",
   "id": "seven-trout",
   "metadata": {},
   "source": [
    "### A7 - 15%\n",
    "- Dadas dos Series de Pandas, implementar una función 'find_not_common' para encontrar los elementos no comunes a ambas Series\n",
    "- Se proveen dos series como referencia, el resultado para este ejemplo debe ser una serie con los elementos [4, 6, 14, 16]"
   ]
  },
  {
   "cell_type": "code",
   "execution_count": null,
   "id": "residential-empty",
   "metadata": {},
   "outputs": [],
   "source": [
    "p1 = pd.Series([2, 4, 12, 6, 8, 10])\n",
    "p2 = pd.Series([8, 10, 12, 10, 14, 2, 16, 10])\n",
    "\n",
    "print(find_not_common(p1, p2).equals(pd.Series([4, 6, 14, 16]))) # Esto deberia imprimir True"
   ]
  }
 ],
 "metadata": {
  "kernelspec": {
   "display_name": "Python 3",
   "language": "python",
   "name": "python3"
  },
  "language_info": {
   "codemirror_mode": {
    "name": "ipython",
    "version": 3
   },
   "file_extension": ".py",
   "mimetype": "text/x-python",
   "name": "python",
   "nbconvert_exporter": "python",
   "pygments_lexer": "ipython3",
   "version": "3.11.4"
  }
 },
 "nbformat": 4,
 "nbformat_minor": 5
}
