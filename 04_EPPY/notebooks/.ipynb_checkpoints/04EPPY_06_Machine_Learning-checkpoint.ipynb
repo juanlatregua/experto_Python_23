{
 "cells": [
  {
   "cell_type": "markdown",
   "id": "8eb643d2",
   "metadata": {
    "slideshow": {
     "slide_type": "slide"
    }
   },
   "source": [
    "\n",
    "<img src=\"img/viu_logo.png\" width=\"200\">\n",
    "\n",
    "## 04EPPY - Ciencia de Datos e Inteligencia Artificial\n",
    "### Machine Learning\n",
    "\n",
    "![logo](img/python_logo.png)\n",
    "\n",
    "*Òscar Garibo*"
   ]
  },
  {
   "cell_type": "markdown",
   "id": "4e863521",
   "metadata": {
    "slideshow": {
     "slide_type": "slide"
    }
   },
   "source": [
    "# Iris Dataset"
   ]
  },
  {
   "cell_type": "markdown",
   "id": "16583b09",
   "metadata": {},
   "source": [
    "- https://github.com/mwaskom/seaborn-data/blob/master/iris.csv"
   ]
  },
  {
   "cell_type": "code",
   "execution_count": null,
   "id": "863e89d4",
   "metadata": {},
   "outputs": [],
   "source": [
    "!pip3 install scikit-learn"
   ]
  },
  {
   "cell_type": "code",
   "execution_count": null,
   "id": "bcefe119",
   "metadata": {},
   "outputs": [],
   "source": [
    "from sklearn import datasets\n",
    "import matplotlib.pyplot as plt\n",
    "import numpy as np\n",
    "import pandas as pd\n",
    "import seaborn as sns"
   ]
  },
  {
   "cell_type": "code",
   "execution_count": null,
   "id": "b96231bf",
   "metadata": {},
   "outputs": [],
   "source": [
    "iris = datasets.load_iris()"
   ]
  },
  {
   "cell_type": "code",
   "execution_count": null,
   "id": "47687e2c",
   "metadata": {},
   "outputs": [],
   "source": [
    "datasets?"
   ]
  },
  {
   "cell_type": "code",
   "execution_count": null,
   "id": "eda8b994",
   "metadata": {
    "tags": []
   },
   "outputs": [],
   "source": [
    "# ndarray 150x4\n",
    "print(iris.data)\n",
    "print(iris.data.shape)"
   ]
  },
  {
   "cell_type": "code",
   "execution_count": null,
   "id": "a2d6829c",
   "metadata": {},
   "outputs": [],
   "source": [
    "iris.feature_names"
   ]
  },
  {
   "cell_type": "code",
   "execution_count": null,
   "id": "f921ddba",
   "metadata": {
    "tags": []
   },
   "outputs": [],
   "source": [
    "# ndarray 150\n",
    "print(iris.target)\n",
    "print(iris.target.shape)\n",
    "y = iris.target"
   ]
  },
  {
   "cell_type": "code",
   "execution_count": null,
   "id": "a800f7d8",
   "metadata": {},
   "outputs": [],
   "source": [
    "iris.target_names"
   ]
  },
  {
   "cell_type": "code",
   "execution_count": null,
   "id": "10ceb54c",
   "metadata": {},
   "outputs": [],
   "source": [
    "# relacion medidas sepalos\n",
    "x = iris.data[:,0] #X-Axis - sepal length\n",
    "y = iris.data[:,1] #Y-Axis - sepal width\n",
    "species = iris.target #Species\n",
    "\n",
    "# scatterplot\n",
    "fig, ax = plt.subplots()\n",
    "ax.scatter(x,y, c=species)\n",
    "ax.set_xlabel('Sepal length')\n",
    "ax.set_ylabel('Sepal width')\n",
    "plt.show()"
   ]
  },
  {
   "cell_type": "code",
   "execution_count": null,
   "id": "b50e73c8",
   "metadata": {},
   "outputs": [],
   "source": [
    "# relacion medidas petalos\n",
    "x = iris.data[:,2] #X-Axis - petal length\n",
    "y = iris.data[:,3] #Y-Axis - petal width\n",
    "species = iris.target #Species\n",
    "\n",
    "# scatterplot\n",
    "fig, ax = plt.subplots()\n",
    "ax.scatter(x,y, c=species)\n",
    "ax.set_xlabel('Petal length')\n",
    "ax.set_ylabel('Petal width')\n",
    "plt.show()"
   ]
  },
  {
   "cell_type": "code",
   "execution_count": null,
   "id": "0760aefe",
   "metadata": {},
   "outputs": [],
   "source": [
    "# Convert to dataframe\n",
    "df_iris = pd.DataFrame(iris.data, columns=iris.feature_names)\n",
    "df_iris[\"target\"] = iris.target"
   ]
  },
  {
   "cell_type": "code",
   "execution_count": null,
   "id": "9f46ff7e",
   "metadata": {},
   "outputs": [],
   "source": [
    "df_iris.sample(5)"
   ]
  },
  {
   "cell_type": "code",
   "execution_count": null,
   "id": "8313f5b3",
   "metadata": {},
   "outputs": [],
   "source": [
    "sns.pairplot(data=df_iris, hue=\"target\", palette='viridis')"
   ]
  },
  {
   "cell_type": "markdown",
   "id": "60b159f2",
   "metadata": {},
   "source": [
    "# Diabetes Dataset"
   ]
  },
  {
   "cell_type": "code",
   "execution_count": null,
   "id": "a0615f00",
   "metadata": {},
   "outputs": [],
   "source": [
    "from sklearn import datasets\n",
    "\n",
    "diabetes = datasets.load_diabetes()"
   ]
  },
  {
   "cell_type": "code",
   "execution_count": null,
   "id": "6b33a718",
   "metadata": {},
   "outputs": [],
   "source": [
    "diabetes.data"
   ]
  },
  {
   "cell_type": "code",
   "execution_count": null,
   "id": "c05ca4f1",
   "metadata": {},
   "outputs": [],
   "source": [
    "diabetes.feature_names"
   ]
  },
  {
   "cell_type": "code",
   "execution_count": null,
   "id": "40f32fd1",
   "metadata": {
    "tags": []
   },
   "outputs": [],
   "source": [
    "diabetes.target"
   ]
  },
  {
   "cell_type": "code",
   "execution_count": null,
   "id": "8b25bdf4",
   "metadata": {},
   "outputs": [],
   "source": [
    "np.sum(diabetes.data[:,2]**2)"
   ]
  }
 ],
 "metadata": {
  "kernelspec": {
   "display_name": "Python 3 (ipykernel)",
   "language": "python",
   "name": "python3"
  },
  "language_info": {
   "codemirror_mode": {
    "name": "ipython",
    "version": 3
   },
   "file_extension": ".py",
   "mimetype": "text/x-python",
   "name": "python",
   "nbconvert_exporter": "python",
   "pygments_lexer": "ipython3",
   "version": "3.11.4"
  }
 },
 "nbformat": 4,
 "nbformat_minor": 5
}
