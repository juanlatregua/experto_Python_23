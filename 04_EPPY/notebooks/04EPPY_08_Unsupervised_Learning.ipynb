{
 "cells": [
  {
   "cell_type": "markdown",
   "id": "f1569dd5",
   "metadata": {
    "slideshow": {
     "slide_type": "slide"
    }
   },
   "source": [
    "\n",
    "<img src=\"img/viu_logo.png\" width=\"200\">\n",
    "\n",
    "## 04EPPY - Ciencia de Datos e Inteligencia Artificial\n",
    "### Unsupervised Learning\n",
    "\n",
    "![logo](img/python_logo.png)\n",
    "\n",
    "*Òscar Garibo*"
   ]
  },
  {
   "cell_type": "markdown",
   "id": "cf5c2a7c",
   "metadata": {},
   "source": [
    "# PCA\n",
    "- Analisis de Componentes Principales (Principal Component Analysis)"
   ]
  },
  {
   "cell_type": "code",
   "execution_count": 1,
   "id": "8eefb2de",
   "metadata": {},
   "outputs": [],
   "source": [
    "import numpy as np\n",
    "import pandas as pd\n",
    "import matplotlib.pyplot as plt\n",
    "import seaborn as sns"
   ]
  },
  {
   "cell_type": "code",
   "execution_count": null,
   "id": "80213545",
   "metadata": {},
   "outputs": [],
   "source": [
    "# cargar dataset desde sns\n",
    "df_iris = sns.load_dataset('iris')\n",
    "df_iris.sample(5)"
   ]
  },
  {
   "cell_type": "code",
   "execution_count": null,
   "id": "d94e05ee",
   "metadata": {},
   "outputs": [],
   "source": [
    "# relacion variables\n",
    "sns.pairplot(data = df_iris, hue='species')"
   ]
  },
  {
   "cell_type": "code",
   "execution_count": null,
   "id": "fce205a8",
   "metadata": {},
   "outputs": [],
   "source": [
    "# correlaciones entre variables\n",
    "display(df_iris.corr())"
   ]
  },
  {
   "cell_type": "code",
   "execution_count": null,
   "id": "9d087ff1",
   "metadata": {},
   "outputs": [],
   "source": [
    "# grafico de correlaciones\n",
    "sns.heatmap(df_iris.corr(), square=True, annot=True)"
   ]
  },
  {
   "cell_type": "code",
   "execution_count": null,
   "id": "2ffbe7cb",
   "metadata": {},
   "outputs": [],
   "source": [
    "# quitar variable no predictora\n",
    "df_pca = df_iris.drop('species', axis=1)\n",
    "display(df_pca)"
   ]
  },
  {
   "cell_type": "code",
   "execution_count": null,
   "id": "ecf12d2e",
   "metadata": {},
   "outputs": [],
   "source": [
    "from sklearn.preprocessing import StandardScaler, scale"
   ]
  },
  {
   "cell_type": "code",
   "execution_count": null,
   "id": "e83ae619",
   "metadata": {},
   "outputs": [],
   "source": [
    "StandardScaler?"
   ]
  },
  {
   "cell_type": "code",
   "execution_count": null,
   "id": "03140c6d",
   "metadata": {},
   "outputs": [],
   "source": [
    "scale?"
   ]
  },
  {
   "cell_type": "code",
   "execution_count": null,
   "id": "33cd4635",
   "metadata": {
    "tags": []
   },
   "outputs": [],
   "source": [
    "# escalar y normalizar los datos\n",
    "x_scaled = StandardScaler()\n",
    "x_scaled.fit(df_pca)\n",
    "scaled = x_scaled.transform(df_pca)\n",
    "print(scaled.shape)\n",
    "print(scaled)"
   ]
  },
  {
   "cell_type": "code",
   "execution_count": null,
   "id": "8d945ec5",
   "metadata": {},
   "outputs": [],
   "source": [
    "from sklearn.decomposition import PCA"
   ]
  },
  {
   "cell_type": "code",
   "execution_count": null,
   "id": "71635e54",
   "metadata": {},
   "outputs": [],
   "source": [
    "# ajustar el dataset escalado\n",
    "n_components = 3\n",
    "pca = PCA(n_components = n_components)\n",
    "pca.fit(scaled)"
   ]
  },
  {
   "cell_type": "code",
   "execution_count": null,
   "id": "92db4e0b",
   "metadata": {},
   "outputs": [],
   "source": [
    "# transformar los datos\n",
    "x_pca = pca.transform(scaled)\n",
    "x_pca.shape"
   ]
  },
  {
   "cell_type": "code",
   "execution_count": null,
   "id": "94178600",
   "metadata": {},
   "outputs": [],
   "source": [
    "x_pca"
   ]
  },
  {
   "cell_type": "code",
   "execution_count": null,
   "id": "aa721006",
   "metadata": {},
   "outputs": [],
   "source": [
    "# visualizar varianza acumulada\n",
    "fig, ax = plt.subplots()\n",
    "ax.plot([1,2,3], np.cumsum(pca.explained_variance_ratio_))\n",
    "plt.show()"
   ]
  },
  {
   "cell_type": "code",
   "execution_count": null,
   "id": "85fa7938",
   "metadata": {},
   "outputs": [],
   "source": [
    "columns = [i for i in pca.explained_variance_ratio_]\n",
    "columns"
   ]
  },
  {
   "cell_type": "code",
   "execution_count": null,
   "id": "42498f1f",
   "metadata": {},
   "outputs": [],
   "source": [
    "# nombre de columnas\n",
    "columns = [f\"AV{i+1}\" for i,v in enumerate(pca.explained_variance_ratio_)]\n",
    "columns"
   ]
  },
  {
   "cell_type": "code",
   "execution_count": null,
   "id": "10cce861",
   "metadata": {},
   "outputs": [],
   "source": [
    "# dataframe con pca\n",
    "df = pd.DataFrame(x_pca, columns=columns)\n",
    "display(df)\n",
    "df.shape"
   ]
  },
  {
   "cell_type": "code",
   "execution_count": null,
   "id": "6bf1cb6c",
   "metadata": {},
   "outputs": [],
   "source": [
    "# visualizar los dos primeros componentes\n",
    "plt.scatter(df.AV1, df.AV2)\n",
    "plt.show()"
   ]
  },
  {
   "cell_type": "code",
   "execution_count": null,
   "id": "cc59b381",
   "metadata": {},
   "outputs": [],
   "source": [
    "# anyadir variable eliminada\n",
    "df_joined = df.join(df_iris['species'], how='inner')\n",
    "display(df_joined.sample(5))"
   ]
  },
  {
   "cell_type": "code",
   "execution_count": null,
   "id": "09599a1c",
   "metadata": {
    "tags": []
   },
   "outputs": [],
   "source": [
    "# separando por especue\n",
    "sns.scatterplot(data=df_joined, x='AV1', y='AV3', hue='species')"
   ]
  },
  {
   "cell_type": "code",
   "execution_count": null,
   "id": "6004d021",
   "metadata": {},
   "outputs": [],
   "source": [
    "# visualizar dos primeros componentes por especie\n",
    "sns.scatterplot(data=df_joined, x='AV1', y='AV2', hue='species', palette='magma')"
   ]
  },
  {
   "cell_type": "code",
   "execution_count": null,
   "id": "c1a91bc1",
   "metadata": {},
   "outputs": [],
   "source": [
    "from mpl_toolkits.mplot3d import Axes3D"
   ]
  },
  {
   "cell_type": "code",
   "execution_count": null,
   "id": "2c061fa9",
   "metadata": {},
   "outputs": [],
   "source": [
    "# grafico 3d con los tres componentes\n",
    "color_labels = df_joined['species'].unique()\n",
    "rgb_values = sns.color_palette(\"magma\", 3)\n",
    "color_map = dict(zip(color_labels, rgb_values))\n",
    "\n",
    "fig = plt.figure(figsize=(10, 10))\n",
    "ax = fig.add_subplot(projection='3d')\n",
    "ax.set_title('Iris Dataset PCA', size=14)\n",
    "ax.scatter(df_joined['AV1'],df_joined['AV2'],df_joined['AV3'],c=df_joined['species'].map(color_map))\n",
    "ax.set_xlabel('AutoVector_1')\n",
    "ax.set_ylabel('AutoVector_2')\n",
    "ax.set_zlabel('AutoVector_3')\n",
    "ax.w_xaxis.set_ticklabels(())\n",
    "ax.w_yaxis.set_ticklabels(())\n",
    "ax.w_zaxis.set_ticklabels(())\n",
    "plt.show()"
   ]
  },
  {
   "cell_type": "code",
   "execution_count": null,
   "id": "60ca5bb5",
   "metadata": {},
   "outputs": [],
   "source": []
  }
 ],
 "metadata": {
  "kernelspec": {
   "display_name": "Python 3",
   "language": "python",
   "name": "python3"
  },
  "language_info": {
   "codemirror_mode": {
    "name": "ipython",
    "version": 3
   },
   "file_extension": ".py",
   "mimetype": "text/x-python",
   "name": "python",
   "nbconvert_exporter": "python",
   "pygments_lexer": "ipython3",
   "version": "3.8.5"
  }
 },
 "nbformat": 4,
 "nbformat_minor": 5
}
