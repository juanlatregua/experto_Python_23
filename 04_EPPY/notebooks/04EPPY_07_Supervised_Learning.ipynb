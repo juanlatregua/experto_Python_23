{
 "cells": [
  {
   "cell_type": "markdown",
   "id": "c4eb04a8",
   "metadata": {
    "slideshow": {
     "slide_type": "slide"
    }
   },
   "source": [
    "\n",
    "<img src=\"img/viu_logo.png\" width=\"200\">\n",
    "\n",
    "## 04EPPY - Ciencia de Datos e Inteligencia Artificial\n",
    "### Supervised Learning\n",
    "\n",
    "![logo](img/python_logo.png)\n",
    "\n",
    "*Òscar Garibo*"
   ]
  },
  {
   "cell_type": "code",
   "execution_count": null,
   "id": "596fbfe2",
   "metadata": {},
   "outputs": [],
   "source": [
    "import numpy as np\n",
    "import matplotlib.pyplot as plt\n",
    "import pandas as pd"
   ]
  },
  {
   "cell_type": "markdown",
   "id": "1a9dd1b8",
   "metadata": {},
   "source": [
    "# Clasificador K-Nearest Neighbors"
   ]
  },
  {
   "cell_type": "code",
   "execution_count": null,
   "id": "13c86e57",
   "metadata": {},
   "outputs": [],
   "source": [
    "import numpy as np\n",
    "from sklearn import datasets\n",
    "np.random.seed(0)\n",
    "iris = datasets.load_iris()\n",
    "X = iris.data\n",
    "y = iris.target\n",
    "shuffled_indexes = np.random.permutation(len(iris.data))\n",
    "display(shuffled_indexes)\n",
    "X_train = X[shuffled_indexes[:-10]]\n",
    "y_train = y[shuffled_indexes[:-10]]\n",
    "X_test = X[shuffled_indexes[-10:]]\n",
    "y_test = y[shuffled_indexes[-10:]]"
   ]
  },
  {
   "cell_type": "code",
   "execution_count": null,
   "id": "12572fec",
   "metadata": {},
   "outputs": [],
   "source": [
    "y_test"
   ]
  },
  {
   "cell_type": "code",
   "execution_count": null,
   "id": "ada92213",
   "metadata": {},
   "outputs": [],
   "source": [
    "from sklearn.neighbors import KNeighborsClassifier\n",
    "knn = KNeighborsClassifier()\n",
    "knn.fit(X_train,y_train)"
   ]
  },
  {
   "cell_type": "code",
   "execution_count": null,
   "id": "76726e69",
   "metadata": {},
   "outputs": [],
   "source": [
    "KNeighborsClassifier?"
   ]
  },
  {
   "cell_type": "code",
   "execution_count": null,
   "id": "b04113d6",
   "metadata": {},
   "outputs": [],
   "source": [
    "knn.predict(X_test)"
   ]
  },
  {
   "cell_type": "code",
   "execution_count": null,
   "id": "29747159",
   "metadata": {},
   "outputs": [],
   "source": [
    "y_test"
   ]
  },
  {
   "cell_type": "code",
   "execution_count": null,
   "id": "cb759d04",
   "metadata": {
    "tags": []
   },
   "outputs": [],
   "source": [
    "# mesh grid -> cuadricula rectangular\n",
    "h = 1\n",
    "length, width = np.meshgrid(np.arange(1, 5, h), np.arange(10, 15, h))\n",
    "\n",
    "#print(f\"length min {length_min}  length max {length_max})\")\n",
    "print(length)\n",
    "#print(f\"width min {width_min}  width max {width_max})\")\n",
    "print(width)\n",
    "\n",
    "# meshgrid -> list of points for the grid\n",
    "print(length.flatten())\n",
    "print(width.flatten())\n",
    "print(np.c_[length.flatten(),width.flatten()])"
   ]
  },
  {
   "cell_type": "code",
   "execution_count": null,
   "id": "c1f44fd3",
   "metadata": {},
   "outputs": [],
   "source": [
    "def plot_knn(X, y, knn):\n",
    "    length_min, length_max = X[:,0].min() - .5, X[:,0].max() + .5\n",
    "    width_min, width_max = X[:,1].min() - .5, X[:,1].max() + .5\n",
    "\n",
    "    #MESH\n",
    "    h = .02\n",
    "    length, width = np.meshgrid(np.arange(length_min, length_max, h), np.arange(width_min, width_max, h))\n",
    "    points_in_area = np.c_[length.flatten(),width.flatten()] \n",
    "\n",
    "    Z = knn.predict(points_in_area)\n",
    "    Z = Z.reshape(length.shape)\n",
    "\n",
    "    fig, ax = plt.subplots()\n",
    "    cmap_light = ListedColormap(['#AAAAFF','#AAFFAA','#FFAAAA'])\n",
    "    ax.pcolormesh(length,width,Z,cmap=cmap_light, shading='auto')\n",
    "    #Plot the training points\n",
    "    ax.scatter(X[:,0],X[:,1],c=y)\n",
    "    ax.set_xlim(length.min(),length.max())\n",
    "    ax.set_ylim(width.min(),width.max())\n",
    "    plt.show()"
   ]
  },
  {
   "cell_type": "code",
   "execution_count": null,
   "id": "b8dfe148",
   "metadata": {},
   "outputs": [],
   "source": [
    "from matplotlib.colors import ListedColormap\n",
    "\n",
    "iris = datasets.load_iris()\n",
    "X = iris.data[:,:2][shuffled_indexes[:]] #X-Axis - sepal length-width\n",
    "y = iris.target[shuffled_indexes[:]] #Y-Axis - species\n",
    "\n",
    "knn = KNeighborsClassifier(n_neighbors=10)\n",
    "knn.fit(X, y)\n",
    "\n",
    "plot_knn(X, y, knn)"
   ]
  },
  {
   "cell_type": "code",
   "execution_count": null,
   "id": "e73d35b0",
   "metadata": {},
   "outputs": [],
   "source": [
    "iris = datasets.load_iris()\n",
    "X = iris.data[:,2:4] #X-Axis - petals length-width\n",
    "y = iris.target #Y-Axis - species\n",
    "\n",
    "knn = KNeighborsClassifier(n_neighbors=10)\n",
    "knn.fit(X,y)\n",
    "\n",
    "plot_knn(X, y, knn)"
   ]
  },
  {
   "cell_type": "markdown",
   "id": "99fbd8ef",
   "metadata": {},
   "source": [
    "# Decission Tree Classifier"
   ]
  },
  {
   "cell_type": "code",
   "execution_count": null,
   "id": "34fbe407",
   "metadata": {},
   "outputs": [],
   "source": [
    "import pandas as pd\n",
    "import numpy as np\n",
    "from sklearn import datasets\n",
    "from sklearn import model_selection\n",
    "from sklearn import tree"
   ]
  },
  {
   "cell_type": "code",
   "execution_count": null,
   "id": "f8048d32",
   "metadata": {},
   "outputs": [],
   "source": [
    "iris = datasets.load_iris()\n",
    "print('Dataset structure= ', dir(iris))\n",
    "\n",
    "df = pd.DataFrame(iris.data, columns = iris.feature_names)\n",
    "df['target'] = iris.target\n",
    "df['flower_species'] = df.target.apply(lambda x : iris.target_names[x]) # Each value from 'target' is used as index to get corresponding value from 'target_names' \n",
    "\n",
    "print('Unique target values=',df['target'].unique())\n",
    "\n",
    "df.sample(5)"
   ]
  },
  {
   "cell_type": "code",
   "execution_count": null,
   "id": "2424a97b",
   "metadata": {},
   "outputs": [],
   "source": [
    "df[df.target == 0].head(5)"
   ]
  },
  {
   "cell_type": "code",
   "execution_count": null,
   "id": "49d927d6",
   "metadata": {},
   "outputs": [],
   "source": [
    "df[df.target == 1].head(3)\n"
   ]
  },
  {
   "cell_type": "code",
   "execution_count": null,
   "id": "3c986e98",
   "metadata": {},
   "outputs": [],
   "source": [
    "df[df.target == 2].head(3)\n"
   ]
  },
  {
   "cell_type": "code",
   "execution_count": null,
   "id": "979d11a2",
   "metadata": {},
   "outputs": [],
   "source": [
    "X = df[['sepal length (cm)', 'sepal width (cm)', 'petal length (cm)', 'petal width (cm)']]\n",
    "y = df[['target']]\n",
    "\n",
    "print('X shape=', X.shape)\n",
    "print('y shape=', y.shape)\n"
   ]
  },
  {
   "cell_type": "code",
   "execution_count": null,
   "id": "7ecddf4a",
   "metadata": {},
   "outputs": [],
   "source": [
    "X_train,X_test, y_train, y_test = model_selection.train_test_split(X, y, test_size= 0.2, random_state= 1, stratify=y)\n",
    "print('X_train dimension= ', X_train.shape)\n",
    "print('X_test dimension= ', X_test.shape)\n",
    "print('y_train dimension= ', y_train.shape)\n",
    "print('y_test dimension= ', y_test.shape)\n",
    "\n"
   ]
  },
  {
   "cell_type": "code",
   "execution_count": null,
   "id": "4d2ea101",
   "metadata": {},
   "outputs": [],
   "source": [
    "cls = tree.DecisionTreeClassifier(random_state= 1)\n",
    "#cls.fit(X_train ,y_train)\n"
   ]
  },
  {
   "cell_type": "code",
   "execution_count": null,
   "id": "ba5ed8d2",
   "metadata": {},
   "outputs": [],
   "source": [
    "cls"
   ]
  },
  {
   "cell_type": "code",
   "execution_count": null,
   "id": "5e50d17b",
   "metadata": {},
   "outputs": [],
   "source": [
    "cls.fit(X_train ,y_train)"
   ]
  },
  {
   "cell_type": "code",
   "execution_count": null,
   "id": "c2f01e0d",
   "metadata": {},
   "outputs": [],
   "source": [
    "cls.score(X_test, y_test)"
   ]
  },
  {
   "cell_type": "code",
   "execution_count": null,
   "id": "95979080",
   "metadata": {},
   "outputs": [],
   "source": [
    "cls.predict(X_test)"
   ]
  },
  {
   "cell_type": "code",
   "execution_count": null,
   "id": "8e27d900",
   "metadata": {},
   "outputs": [],
   "source": [
    "y_test"
   ]
  },
  {
   "cell_type": "code",
   "execution_count": null,
   "id": "0e99f980",
   "metadata": {},
   "outputs": [],
   "source": [
    "tree.plot_tree?"
   ]
  },
  {
   "cell_type": "code",
   "execution_count": null,
   "id": "cd87d882",
   "metadata": {},
   "outputs": [],
   "source": [
    "plt.figure(figsize=(20,20)) \n",
    "tree.plot_tree(cls, class_names=['setosa', 'versicolor', 'virginica'], filled=True, feature_names=['sepal length (cm)',\n",
    " 'sepal width (cm)',\n",
    " 'petal length (cm)',\n",
    " 'petal width (cm)']) "
   ]
  },
  {
   "cell_type": "markdown",
   "id": "32bf4452",
   "metadata": {},
   "source": [
    "# Logistic Regression"
   ]
  },
  {
   "cell_type": "code",
   "execution_count": null,
   "id": "5f38494d",
   "metadata": {},
   "outputs": [],
   "source": [
    "from sklearn.linear_model import LogisticRegression\n",
    "\n",
    "np.random.seed(0)\n",
    "iris = datasets.load_iris()\n",
    "X = iris.data\n",
    "y = iris.target\n",
    "shuffled_indexes = np.random.permutation(len(iris.data))\n",
    "display(shuffled_indexes)\n",
    "X_train = X[shuffled_indexes[:-10]]\n",
    "y_train = y[shuffled_indexes[:-10]]\n",
    "X_test = X[shuffled_indexes[-10:]]\n",
    "y_test = y[shuffled_indexes[-10:]]\n",
    "\n",
    "logreg = LogisticRegression()\n",
    "logreg.fit(X_train, y_train)\n",
    "logreg.predict(X_test)"
   ]
  },
  {
   "cell_type": "code",
   "execution_count": null,
   "id": "161553cd",
   "metadata": {
    "tags": []
   },
   "outputs": [],
   "source": [
    "y_test"
   ]
  },
  {
   "cell_type": "code",
   "execution_count": null,
   "id": "b9230eeb",
   "metadata": {
    "tags": []
   },
   "outputs": [],
   "source": [
    "from sklearn.compose import ColumnTransformer\n",
    "from sklearn.preprocessing import StandardScaler\n",
    "from sklearn import datasets\n",
    "\n",
    "\n",
    "iris = datasets.load_iris()\n",
    "df_iris = pd.DataFrame(iris.data, columns=iris.feature_names)\n",
    "\n"
   ]
  },
  {
   "cell_type": "code",
   "execution_count": null,
   "id": "65bea923",
   "metadata": {},
   "outputs": [],
   "source": [
    "df_iris.head()"
   ]
  },
  {
   "cell_type": "code",
   "execution_count": null,
   "id": "47dd146e",
   "metadata": {},
   "outputs": [],
   "source": [
    "ct = ColumnTransformer([('scaler', StandardScaler(), [0,1,2,3])], remainder='passthrough')\n",
    "df_scaled = ct.fit_transform(df_iris)\n",
    "display(df_iris.head(5))\n",
    "display(df_scaled)"
   ]
  },
  {
   "cell_type": "code",
   "execution_count": null,
   "id": "0f6e81df",
   "metadata": {},
   "outputs": [],
   "source": [
    "from sklearn.model_selection import train_test_split"
   ]
  },
  {
   "cell_type": "code",
   "execution_count": null,
   "id": "1cca4d3a",
   "metadata": {},
   "outputs": [],
   "source": [
    "X.shape"
   ]
  },
  {
   "cell_type": "code",
   "execution_count": null,
   "id": "3fe4156e",
   "metadata": {},
   "outputs": [],
   "source": [
    "X = df_scaled[:,:4]\n",
    "#y = np.ravel(df_scaled[:,4:]).astype(int)\n",
    "y = iris.target\n",
    "\n",
    "test_size = 0.10\n",
    "seed = np.random.randint(1000)\n",
    "X_train, X_test, y_train, y_test = train_test_split(X, y, test_size=test_size, random_state=seed)"
   ]
  },
  {
   "cell_type": "code",
   "execution_count": null,
   "id": "c89bb3a6",
   "metadata": {},
   "outputs": [],
   "source": [
    "from sklearn.linear_model import LogisticRegression\n",
    "\n",
    "logreg = LogisticRegression()\n",
    "logreg.fit(X_train, y_train)\n",
    "logreg.predict(X_test)"
   ]
  },
  {
   "cell_type": "code",
   "execution_count": null,
   "id": "d5527341",
   "metadata": {},
   "outputs": [],
   "source": [
    "y_test"
   ]
  },
  {
   "cell_type": "code",
   "execution_count": null,
   "id": "fa5db0a1",
   "metadata": {},
   "outputs": [],
   "source": [
    "list(y_test.astype(int))"
   ]
  },
  {
   "cell_type": "code",
   "execution_count": null,
   "id": "f70eb950",
   "metadata": {},
   "outputs": [],
   "source": [
    "from sklearn.metrics import accuracy_score, roc_auc_score"
   ]
  },
  {
   "cell_type": "code",
   "execution_count": null,
   "id": "feb29ba7",
   "metadata": {},
   "outputs": [],
   "source": [
    "accuracy_score(list(y_test.astype(int)), list(logreg.predict(X_test)))"
   ]
  },
  {
   "cell_type": "markdown",
   "id": "bd17f837",
   "metadata": {},
   "source": [
    "from sklearn.datasets import load_iris\n",
    "X, y = load_iris(return_X_y=True)\n",
    "clf = LogisticRegression(solver=\"liblinear\").fit(X, y)\n",
    "roc_auc_score(y, clf.predict_proba(X), multi_class='ovr')"
   ]
  },
  {
   "cell_type": "code",
   "execution_count": null,
   "id": "df61cc51",
   "metadata": {},
   "outputs": [],
   "source": []
  },
  {
   "cell_type": "markdown",
   "id": "38998cc9",
   "metadata": {},
   "source": [
    "# Regresión lineal"
   ]
  },
  {
   "cell_type": "code",
   "execution_count": null,
   "id": "167aad68",
   "metadata": {},
   "outputs": [],
   "source": [
    "Y = m * x + b"
   ]
  },
  {
   "cell_type": "code",
   "execution_count": null,
   "id": "f64b0d3b",
   "metadata": {},
   "outputs": [],
   "source": [
    "from sklearn import linear_model\n",
    "linreg = linear_model.LinearRegression()"
   ]
  },
  {
   "cell_type": "code",
   "execution_count": null,
   "id": "8c372cb7",
   "metadata": {},
   "outputs": [],
   "source": [
    "from sklearn import datasets\n",
    "diabetes = datasets.load_diabetes()\n",
    "\n",
    "X_train = diabetes.data[:-20]\n",
    "y_train = diabetes.target[:-20]\n",
    "\n",
    "X_test = diabetes.data[-20:]\n",
    "y_test = diabetes.target[-20:]"
   ]
  },
  {
   "cell_type": "code",
   "execution_count": null,
   "id": "244e4c5a",
   "metadata": {},
   "outputs": [],
   "source": [
    "X_train[0]"
   ]
  },
  {
   "cell_type": "code",
   "execution_count": null,
   "id": "c0520b94",
   "metadata": {},
   "outputs": [],
   "source": [
    "y_train"
   ]
  },
  {
   "cell_type": "code",
   "execution_count": null,
   "id": "82952338",
   "metadata": {},
   "outputs": [],
   "source": [
    "len(X_train)"
   ]
  },
  {
   "cell_type": "code",
   "execution_count": null,
   "id": "efd914f5",
   "metadata": {},
   "outputs": [],
   "source": [
    "linreg.fit(X_train,y_train)"
   ]
  },
  {
   "cell_type": "code",
   "execution_count": null,
   "id": "e6daff2c",
   "metadata": {},
   "outputs": [],
   "source": [
    "linreg.coef_"
   ]
  },
  {
   "cell_type": "code",
   "execution_count": null,
   "id": "2fa359c2",
   "metadata": {},
   "outputs": [],
   "source": [
    "linreg.predict(X_test)"
   ]
  },
  {
   "cell_type": "code",
   "execution_count": null,
   "id": "2a3f6fd2",
   "metadata": {},
   "outputs": [],
   "source": [
    "y_test"
   ]
  },
  {
   "cell_type": "code",
   "execution_count": null,
   "id": "f9a4c9fb",
   "metadata": {},
   "outputs": [],
   "source": [
    "linreg.score? #(X_test, y_test)"
   ]
  },
  {
   "cell_type": "code",
   "execution_count": null,
   "id": "bc9491f7",
   "metadata": {},
   "outputs": [],
   "source": [
    "from sklearn.metrics import mean_absolute_error"
   ]
  },
  {
   "cell_type": "code",
   "execution_count": null,
   "id": "535eb85a",
   "metadata": {},
   "outputs": [],
   "source": [
    "mean_absolute_error(y_test, linreg.predict(X_test))"
   ]
  },
  {
   "cell_type": "code",
   "execution_count": null,
   "id": "371913a6",
   "metadata": {},
   "outputs": [],
   "source": []
  },
  {
   "cell_type": "code",
   "execution_count": null,
   "id": "fb4a7062",
   "metadata": {},
   "outputs": [],
   "source": []
  },
  {
   "cell_type": "code",
   "execution_count": null,
   "id": "9658c53a",
   "metadata": {},
   "outputs": [],
   "source": [
    "X0_test = np.vstack(X_test[:,0])\n",
    "X0_train = np.vstack(X_train[:,0])\n",
    "\n",
    "linreg = linear_model.LinearRegression()\n",
    "linreg.fit(X0_train,y_train)\n",
    "y = linreg.predict(X0_test)\n",
    "\n",
    "fig, ax = plt.subplots()\n",
    "ax.scatter(X0_test, y_test,color='k')\n",
    "ax.plot(X0_test, y, color='b', linewidth=3)\n",
    "plt.show()"
   ]
  },
  {
   "cell_type": "code",
   "execution_count": null,
   "id": "e98ad7c9",
   "metadata": {},
   "outputs": [],
   "source": [
    "fig, ax = plt.subplots(5,2, figsize=(10,12))\n",
    "print(ax)\n",
    "print(diabetes.feature_names)\n",
    "\n",
    "for i in range(0,10):\n",
    "    Xi_test = np.vstack(X_test[:,i])\n",
    "    Xi_train = np.vstack(X_train[:,i])\n",
    "\n",
    "    linreg.fit(Xi_train,y_train)\n",
    "    y = linreg.predict(Xi_test)\n",
    "        \n",
    "    ax[i//2,i%2].scatter(Xi_test,y_test,color='k')\n",
    "    ax[i//2,i%2].plot(Xi_test,y,color='b',linewidth=3)\n",
    "    ax[i//2,i%2].set_title(diabetes.feature_names[i])\n",
    "    \n",
    "plt.subplots_adjust(wspace=0.2, hspace=0.6)\n",
    "plt.show()"
   ]
  },
  {
   "cell_type": "markdown",
   "id": "459a8b89",
   "metadata": {},
   "source": [
    "# SVC"
   ]
  },
  {
   "cell_type": "code",
   "execution_count": null,
   "id": "e66d3587",
   "metadata": {},
   "outputs": [],
   "source": [
    "X = np.array([[1,3],[1,2],[1,1.5],[1.5,2],[2,3],[2.5,1.5],[2,1],[3,1],[3,2],[3.5,1],[3.5,3]])\n",
    "y = [0]*6 + [1]*5\n",
    "\n",
    "print(X)\n",
    "print(y)"
   ]
  },
  {
   "cell_type": "code",
   "execution_count": null,
   "id": "179dfb63",
   "metadata": {},
   "outputs": [],
   "source": [
    "fig, ax = plt.subplots()\n",
    "ax.scatter(X[:,0], X[:,1], c=y, s=50, alpha=0.9)\n",
    "plt.show()"
   ]
  },
  {
   "cell_type": "code",
   "execution_count": null,
   "id": "aac93e44",
   "metadata": {},
   "outputs": [],
   "source": [
    "from sklearn import svm\n",
    "\n",
    "svc = svm.SVC(kernel='linear')\n",
    "svc.fit(X,y)"
   ]
  },
  {
   "cell_type": "code",
   "execution_count": null,
   "id": "8e4007d7",
   "metadata": {},
   "outputs": [],
   "source": [
    "h = .02\n",
    "length, width = np.meshgrid(np.arange(0, 4, h), np.arange(0, 4, h))\n",
    "\n",
    "points_in_area = np.c_[length.flatten(),width.flatten()]\n",
    "z = svc.decision_function(points_in_area)\n",
    "z = z.reshape(length.shape)\n",
    "\n",
    "fig, ax = plt.subplots()\n",
    "ax.contourf(length, width, z > 0,alpha=0.3)\n",
    "ax.contour(length, width, z, colors=['k'], linestyles=['-'],levels=[0])\n",
    "ax.scatter(X[:,0],X[:,1],c=y,s=50,alpha=0.9)\n",
    "plt.show()"
   ]
  },
  {
   "cell_type": "code",
   "execution_count": null,
   "id": "de637047",
   "metadata": {},
   "outputs": [],
   "source": [
    "def plot_svc(X, y, svc):\n",
    "    length_min, length_max = X[:,0].min() - .5, X[:,0].max() + .5\n",
    "    width_min, width_max = X[:,1].min() - .5, X[:,1].max() + .5\n",
    "    \n",
    "    h = .02\n",
    "    length, width = np.meshgrid(np.arange(length_min, length_max, h), np.arange(width_min, width_max, h))\n",
    "\n",
    "    points_in_area = np.c_[length.flatten(),width.flatten()]\n",
    "    z = svc.decision_function(points_in_area)\n",
    "    z = z.reshape(length.shape)\n",
    "\n",
    "    fig, ax = plt.subplots()\n",
    "    ax.contourf(length, width, z > 0,alpha=0.3)\n",
    "    ax.contour(length, width, z, colors=['k','k','k'], linestyles=['--','-','--'], levels=[-1,0,1])\n",
    "    ax.scatter(svc.support_vectors_[:,0], svc.support_vectors_[:,1], s=120, facecolors='r')\n",
    "    ax.scatter(X[:,0],X[:,1],c=y,s=50,alpha=0.9)\n",
    "    plt.show()"
   ]
  },
  {
   "cell_type": "code",
   "execution_count": null,
   "id": "f08cb3b3",
   "metadata": {},
   "outputs": [],
   "source": [
    "plot_svc(X, y, svc)"
   ]
  },
  {
   "cell_type": "code",
   "execution_count": null,
   "id": "3f598941",
   "metadata": {},
   "outputs": [],
   "source": [
    "print(svc.predict([[1.5,2.5], [3,1.5]]))"
   ]
  },
  {
   "cell_type": "code",
   "execution_count": null,
   "id": "e143c635",
   "metadata": {
    "tags": []
   },
   "outputs": [],
   "source": [
    "svc = svm.SVC(kernel='linear', C=0.1)\n",
    "svc.fit(X,y)"
   ]
  },
  {
   "cell_type": "code",
   "execution_count": null,
   "id": "1f07380b",
   "metadata": {},
   "outputs": [],
   "source": [
    "plot_svc(X, y, svc)"
   ]
  },
  {
   "cell_type": "markdown",
   "id": "11c5260a",
   "metadata": {},
   "source": [
    "## SVC No Lineales"
   ]
  },
  {
   "cell_type": "code",
   "execution_count": null,
   "id": "5f2d6ecf",
   "metadata": {},
   "outputs": [],
   "source": [
    "X = np.array([[1,3],[1,2],[1,1.5],[1.5,2],[2,3],[2.5,1.5],[2,1],[3,1],[3,2],[3.5,1],[3.5,3]])\n",
    "y = [0]*6 + [1]*5"
   ]
  },
  {
   "cell_type": "code",
   "execution_count": null,
   "id": "0e9ffd89",
   "metadata": {},
   "outputs": [],
   "source": [
    "from sklearn import svm\n",
    "\n",
    "svc = svm.SVC(kernel='poly', C=1, degree=3)\n",
    "svc.fit(X,y)"
   ]
  },
  {
   "cell_type": "code",
   "execution_count": null,
   "id": "3198bd1a",
   "metadata": {
    "tags": []
   },
   "outputs": [],
   "source": [
    "plot_svc(X, y, svc)"
   ]
  },
  {
   "cell_type": "code",
   "execution_count": null,
   "id": "cf7901dd",
   "metadata": {},
   "outputs": [],
   "source": [
    "from sklearn import svm\n",
    "\n",
    "svc = svm.SVC(kernel='rbf', C=1, gamma=3)\n",
    "svc.fit(X,y)"
   ]
  },
  {
   "cell_type": "code",
   "execution_count": null,
   "id": "8cbe4c69",
   "metadata": {
    "tags": []
   },
   "outputs": [],
   "source": [
    "plot_svc(X, y, svc)"
   ]
  },
  {
   "cell_type": "markdown",
   "id": "2b0b6c2a",
   "metadata": {},
   "source": [
    "## SVC Iris"
   ]
  },
  {
   "cell_type": "code",
   "execution_count": null,
   "id": "172ea0ab",
   "metadata": {},
   "outputs": [],
   "source": [
    "from sklearn import datasets"
   ]
  },
  {
   "cell_type": "code",
   "execution_count": null,
   "id": "fb6fdfd0",
   "metadata": {},
   "outputs": [],
   "source": [
    "iris = datasets.load_iris()\n",
    "X = iris.data[:,2:]\n",
    "y = iris.target"
   ]
  },
  {
   "cell_type": "code",
   "execution_count": null,
   "id": "9a5d391b",
   "metadata": {},
   "outputs": [],
   "source": [
    "from sklearn import svm\n",
    "\n",
    "svc = svm.SVC(kernel='linear', C=0.1)\n",
    "svc.fit(X,y)"
   ]
  },
  {
   "cell_type": "code",
   "execution_count": null,
   "id": "c7ab4533",
   "metadata": {},
   "outputs": [],
   "source": [
    "def plot_svc_iris(X, y, svc):\n",
    "    length_min, length_max = X[:,0].min() - .5, X[:,0].max() + .5\n",
    "    width_min, width_max = X[:,1].min() - .5, X[:,1].max() + .5\n",
    "\n",
    "    #MESH\n",
    "    h = .02\n",
    "    length, width = np.meshgrid(np.arange(length_min, length_max, h), np.arange(width_min, width_max, h))\n",
    "    points_in_area = np.c_[length.flatten(),width.flatten()] \n",
    "\n",
    "    Z = svc.predict(points_in_area)\n",
    "    Z = Z.reshape(length.shape)\n",
    "\n",
    "    fig, ax = plt.subplots()\n",
    "    ax.contourf(length, width, Z, alpha=0.3)\n",
    "    ax.contour(length, width, Z, colors='k')\n",
    "    ax.scatter(X[:,0],X[:,1],c=y)\n",
    "\n",
    "    plt.show()"
   ]
  },
  {
   "cell_type": "code",
   "execution_count": null,
   "id": "1aa3de4b",
   "metadata": {},
   "outputs": [],
   "source": [
    "plot_svc_iris(X, y, svc)"
   ]
  },
  {
   "cell_type": "code",
   "execution_count": null,
   "id": "6da0b5bb",
   "metadata": {},
   "outputs": [],
   "source": [
    "from sklearn import svm\n",
    "\n",
    "svc = svm.SVC(kernel='poly', C=1, degree=3)\n",
    "svc.fit(X,y)"
   ]
  },
  {
   "cell_type": "code",
   "execution_count": null,
   "id": "c5599f56",
   "metadata": {
    "tags": []
   },
   "outputs": [],
   "source": [
    "plot_svc_iris(X, y, svc)"
   ]
  },
  {
   "cell_type": "code",
   "execution_count": null,
   "id": "ff5f7fac",
   "metadata": {},
   "outputs": [],
   "source": [
    "from sklearn import svm\n",
    "\n",
    "svc = svm.SVC(kernel='rbf', C=1, gamma=3)\n",
    "svc.fit(X,y)"
   ]
  },
  {
   "cell_type": "code",
   "execution_count": null,
   "id": "285cf0fe",
   "metadata": {
    "tags": []
   },
   "outputs": [],
   "source": [
    "plot_svc_iris(X, y, svc)"
   ]
  },
  {
   "cell_type": "markdown",
   "id": "68ab47b0",
   "metadata": {},
   "source": [
    "## SVR"
   ]
  },
  {
   "cell_type": "code",
   "execution_count": null,
   "id": "cc5c8e89",
   "metadata": {},
   "outputs": [],
   "source": [
    "from sklearn import datasets\n",
    "\n",
    "diabetes = datasets.load_diabetes()"
   ]
  },
  {
   "cell_type": "code",
   "execution_count": null,
   "id": "e74ed738",
   "metadata": {},
   "outputs": [],
   "source": [
    "X_train = diabetes.data[:-20]\n",
    "y_train = diabetes.target[:-20]\n",
    "X_test = diabetes.data[-20:]\n",
    "y_test = diabetes.target[-20:]"
   ]
  },
  {
   "cell_type": "code",
   "execution_count": null,
   "id": "bb483ccc",
   "metadata": {},
   "outputs": [],
   "source": [
    "X0_test = np.vstack(X_test[:,2])\n",
    "X0_train = np.vstack(X_train[:,2])"
   ]
  },
  {
   "cell_type": "code",
   "execution_count": null,
   "id": "20a3fde2",
   "metadata": {},
   "outputs": [],
   "source": [
    "X0_test"
   ]
  },
  {
   "cell_type": "code",
   "execution_count": null,
   "id": "5c586403",
   "metadata": {},
   "outputs": [],
   "source": [
    "X0_test.sort(axis=0)"
   ]
  },
  {
   "cell_type": "code",
   "execution_count": null,
   "id": "8bcb2655",
   "metadata": {},
   "outputs": [],
   "source": [
    "svr = svm.SVR(kernel='linear',C=100)\n",
    "svr_d2 = svm.SVR(kernel='poly',C=100,degree=2)\n",
    "svr_d3 = svm.SVR(kernel='poly',C=100,degree=3)\n",
    "svr_rbf = svm.SVR(kernel='rbf', C=100)"
   ]
  },
  {
   "cell_type": "code",
   "execution_count": null,
   "id": "b49741e3",
   "metadata": {},
   "outputs": [],
   "source": [
    "svr.fit(X0_train,y_train)\n",
    "svr_d2.fit(X0_train,y_train)\n",
    "svr_d3.fit(X0_train,y_train)\n",
    "svr_rbf.fit(X0_train,y_train)"
   ]
  },
  {
   "cell_type": "code",
   "execution_count": null,
   "id": "7e9ae720",
   "metadata": {},
   "outputs": [],
   "source": [
    "y = svr.predict(X0_test)\n",
    "y_d2 = svr_d2.predict(X0_test)\n",
    "y_d3 = svr_d3.predict(X0_test)\n",
    "y_rbf = svr_rbf.predict(X0_test)"
   ]
  },
  {
   "cell_type": "code",
   "execution_count": null,
   "id": "0eadcb6f",
   "metadata": {},
   "outputs": [],
   "source": [
    "fig, ax = plt.subplots()\n",
    "ax.scatter(X0_test, y_test, c='k')\n",
    "ax.plot(X0_test, y, c='b', label='lineal')\n",
    "ax.plot(X0_test, y_d2, c='r', label='orden 2')\n",
    "ax.plot(X0_test, y_d3, c='g', label='orden 3')\n",
    "ax.plot(X0_test, y_rbf, c='pink', label='rbf')\n",
    "plt.legend()\n",
    "plt.show()"
   ]
  },
  {
   "cell_type": "code",
   "execution_count": null,
   "id": "35462aa5",
   "metadata": {},
   "outputs": [],
   "source": []
  },
  {
   "cell_type": "markdown",
   "id": "5e25cabe",
   "metadata": {},
   "source": [
    "## DECISSION TREE FOR REGRESSION"
   ]
  },
  {
   "cell_type": "code",
   "execution_count": null,
   "id": "77edafad",
   "metadata": {},
   "outputs": [],
   "source": [
    "import pandas as pd\n",
    "import numpy as np\n",
    "from sklearn import datasets\n",
    "from sklearn import model_selection\n",
    "from sklearn import tree\n"
   ]
  },
  {
   "cell_type": "code",
   "execution_count": null,
   "id": "aaa67f6a",
   "metadata": {},
   "outputs": [],
   "source": [
    "boston = datasets.load_boston()\n",
    "print('Dataset structure= ', dir(boston))\n",
    "\n",
    "df = pd.DataFrame(boston.data, columns = boston.feature_names)\n",
    "df['target'] = boston.target\n",
    "\n",
    "df.sample(5)"
   ]
  },
  {
   "cell_type": "code",
   "execution_count": null,
   "id": "a268a7ba",
   "metadata": {},
   "outputs": [],
   "source": [
    "X = df[['CRIM', 'ZN', 'INDUS', 'CHAS', 'NOX', 'RM', 'AGE', 'DIS', 'RAD', 'TAX', 'PTRATIO', 'B', 'LSTAT']]\n",
    "y = df[['target']]\n",
    "\n",
    "print('X shape=', X.shape)\n",
    "print('y shape=', y.shape)"
   ]
  },
  {
   "cell_type": "code",
   "execution_count": null,
   "id": "116f282d",
   "metadata": {},
   "outputs": [],
   "source": [
    "X_train,X_test, y_train, y_test = model_selection.train_test_split(X, y, test_size= 0.2, random_state= 1)\n",
    "print('X_train dimension= ', X_train.shape)\n",
    "print('X_test dimension= ', X_test.shape)\n",
    "print('y_train dimension= ', y_train.shape)\n",
    "print('y_train dimension= ', y_test.shape)\n",
    "\n"
   ]
  },
  {
   "cell_type": "code",
   "execution_count": null,
   "id": "ac6e45d6",
   "metadata": {},
   "outputs": [],
   "source": [
    "tree.DecisionTreeRegressor?"
   ]
  },
  {
   "cell_type": "code",
   "execution_count": null,
   "id": "a9947e4d",
   "metadata": {},
   "outputs": [],
   "source": [
    "dtr = tree.DecisionTreeRegressor(max_depth= 10,random_state= 1)\n",
    "dtr.fit(X_train ,y_train)"
   ]
  },
  {
   "cell_type": "code",
   "execution_count": null,
   "id": "644a88e2",
   "metadata": {},
   "outputs": [],
   "source": [
    "predicted_price= pd.DataFrame(dtr.predict(X_test), columns=['Predicted Price'])\n",
    "actual_price = pd.DataFrame(y_test, columns=['target'])\n"
   ]
  },
  {
   "cell_type": "code",
   "execution_count": null,
   "id": "b63f5804",
   "metadata": {},
   "outputs": [],
   "source": [
    "predicted_price"
   ]
  },
  {
   "cell_type": "code",
   "execution_count": null,
   "id": "d2522fd9",
   "metadata": {},
   "outputs": [],
   "source": [
    "actual_price"
   ]
  },
  {
   "cell_type": "code",
   "execution_count": null,
   "id": "b53663fb",
   "metadata": {},
   "outputs": [],
   "source": []
  },
  {
   "cell_type": "code",
   "execution_count": null,
   "id": "b881ee8a",
   "metadata": {},
   "outputs": [],
   "source": [
    "actual_price = actual_price.reset_index(drop=True) # Drop the index so that we can concat it, to create new dataframe\n",
    "df_actual_vs_predicted = pd.concat([actual_price,predicted_price],axis =1)\n",
    "df_actual_vs_predicted"
   ]
  },
  {
   "cell_type": "code",
   "execution_count": null,
   "id": "a412ba45",
   "metadata": {},
   "outputs": [],
   "source": [
    "dtr.score(X_test, y_test)"
   ]
  },
  {
   "cell_type": "code",
   "execution_count": null,
   "id": "db34f0e2",
   "metadata": {},
   "outputs": [],
   "source": [
    "mean_absolute_error(df_actual_vs_predicted['target'], df_actual_vs_predicted['Predicted Price'])"
   ]
  },
  {
   "cell_type": "code",
   "execution_count": null,
   "id": "4baf1f4e",
   "metadata": {},
   "outputs": [],
   "source": [
    "plt.figure(figsize=(20,20)) \n",
    "tree.plot_tree(dtr, class_names=True, filled=True, feature_names=boston.feature_names) "
   ]
  },
  {
   "cell_type": "code",
   "execution_count": null,
   "id": "ca4231e0",
   "metadata": {},
   "outputs": [],
   "source": [
    "tree.plot_tree?"
   ]
  },
  {
   "cell_type": "code",
   "execution_count": null,
   "id": "b4fdfba5",
   "metadata": {},
   "outputs": [],
   "source": []
  }
 ],
 "metadata": {
  "kernelspec": {
   "display_name": "Python 3",
   "language": "python",
   "name": "python3"
  },
  "language_info": {
   "codemirror_mode": {
    "name": "ipython",
    "version": 3
   },
   "file_extension": ".py",
   "mimetype": "text/x-python",
   "name": "python",
   "nbconvert_exporter": "python",
   "pygments_lexer": "ipython3",
   "version": "3.8.5"
  }
 },
 "nbformat": 4,
 "nbformat_minor": 5
}
